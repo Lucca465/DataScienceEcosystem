{
  "nbformat": 4,
  "nbformat_minor": 0,
  "metadata": {
    "colab": {
      "provenance": [],
      "authorship_tag": "ABX9TyP0iAYox9TCfqe07NHs0kaI",
      "include_colab_link": true
    },
    "kernelspec": {
      "name": "python3",
      "display_name": "Python 3"
    },
    "language_info": {
      "name": "python"
    }
  },
  "cells": [
    {
      "cell_type": "markdown",
      "metadata": {
        "id": "view-in-github",
        "colab_type": "text"
      },
      "source": [
        "<a href=\"https://colab.research.google.com/github/Lucca465/DataScienceEcosystem/blob/main/DataScienceEcosystem.ipynb\" target=\"_parent\"><img src=\"https://colab.research.google.com/assets/colab-badge.svg\" alt=\"Open In Colab\"/></a>"
      ]
    },
    {
      "cell_type": "markdown",
      "source": [
        "# Data Science Tools and Ecosystem"
      ],
      "metadata": {
        "id": "rdBY6cC7AVnz"
      }
    },
    {
      "cell_type": "markdown",
      "source": [
        "Neste notebook, as Ferramentas e Ecossistema de Ciência de Dados são resumidos."
      ],
      "metadata": {
        "id": "e5ENtoJcBYdp"
      }
    },
    {
      "cell_type": "markdown",
      "source": [
        "**Objetivos:**\n",
        "\n",
        "\n",
        "\n",
        "*   Listar linguagens populares para Ciência de Dados\n",
        "*   Listar bibliotecas populares para Ciência de Dados\n",
        "*   Listar Ferramentas populares para Ciência de Dados\n",
        "\n",
        "\n",
        "\n"
      ],
      "metadata": {
        "id": "Qa286ao6FGTl"
      }
    },
    {
      "cell_type": "markdown",
      "source": [
        "Algumas das linguagens populares que os Cientistas de Dados usam são:\n",
        "\n",
        "\n",
        "\n",
        "1.   Python\n",
        "2.   R\n",
        "3.   SQL\n",
        "\n",
        "\n",
        "\n"
      ],
      "metadata": {
        "id": "CbsOc-HcBtIG"
      }
    },
    {
      "cell_type": "markdown",
      "source": [
        "Algumas das bibliotecas comumente usadas por Cientistas de Dados incluem:\n",
        "\n",
        "1.   Pandas\n",
        "2.   Numpy\n",
        "3.   Matplotlib\n",
        "\n"
      ],
      "metadata": {
        "id": "_SVCOQF1CKwl"
      }
    },
    {
      "cell_type": "markdown",
      "source": [
        "|Ferramentas de Ciência de Dados|\n",
        "|-------------------------------|\n",
        "|Google Colab|\n",
        "|Jupyter Notebook|\n",
        "|Apache Spark|"
      ],
      "metadata": {
        "id": "9yIXYukZCpr4"
      }
    },
    {
      "cell_type": "markdown",
      "source": [
        "### Abaixo estão alguns exemplos de avaliação de expressões aritméticas em Python"
      ],
      "metadata": {
        "id": "b9dSkoDSD7zl"
      }
    },
    {
      "cell_type": "code",
      "execution_count": 2,
      "metadata": {
        "colab": {
          "base_uri": "https://localhost:8080/"
        },
        "id": "pERZsHtjAILa",
        "outputId": "6e1fe921-c48b-4da3-c839-a3c7467090b3"
      },
      "outputs": [
        {
          "output_type": "execute_result",
          "data": {
            "text/plain": [
              "17"
            ]
          },
          "metadata": {},
          "execution_count": 2
        }
      ],
      "source": [
        "# Esta é uma expressão aritmética simples para multiplicar e depois adicionar inteiros\n",
        "(3*4)+5"
      ]
    },
    {
      "cell_type": "code",
      "source": [
        "# Isso converterá 200 minutos em horas dividindo por 60\n",
        "200 / 60"
      ],
      "metadata": {
        "colab": {
          "base_uri": "https://localhost:8080/"
        },
        "id": "6XcVw4-uEKzH",
        "outputId": "2ef7d447-bb9a-46d6-bcc2-8df57b92e7dd"
      },
      "execution_count": 3,
      "outputs": [
        {
          "output_type": "execute_result",
          "data": {
            "text/plain": [
              "3.3333333333333335"
            ]
          },
          "metadata": {},
          "execution_count": 3
        }
      ]
    },
    {
      "cell_type": "markdown",
      "source": [
        "## Autor\n",
        "Lucca Machado"
      ],
      "metadata": {
        "id": "0jT-u_BIFxKa"
      }
    }
  ]
}